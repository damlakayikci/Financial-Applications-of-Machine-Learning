{
 "cells": [
  {
   "cell_type": "code",
   "execution_count": 58,
   "metadata": {},
   "outputs": [],
   "source": [
    "import yfinance as yf\n",
    "import numpy as np\n",
    "import matplotlib.pyplot as plt\n",
    "import pandas as pd\n",
    "from scipy.stats import skew, kurtosis"
   ]
  },
  {
   "cell_type": "code",
   "execution_count": 30,
   "metadata": {},
   "outputs": [],
   "source": [
    "# US Tech Stocks\n",
    "us_stock_names = [\"GOOGL\", \"AAPL\", \"AMZN\", \"NVDA\", \"BTC-USD\"]\n",
    "\n",
    "# # US Tech Index\n",
    "NASDAQ = yf.Ticker(\"^IXIC\")\n",
    "\n",
    "# # Turkish Stock Index\n",
    "BIST100 = yf.Ticker(\"XU100\")\n",
    "\n",
    "# # Turkish Stocks\n",
    "tr_stock_names = [\"AKBNK\", \"TUPRS\"]"
   ]
  },
  {
   "cell_type": "code",
   "execution_count": 36,
   "metadata": {},
   "outputs": [],
   "source": [
    "# define parameters\n",
    "interval = \"1d\"\n",
    "start = \"2024-01-01\"\n",
    "end = \"2024-02-01\""
   ]
  },
  {
   "cell_type": "code",
   "execution_count": 65,
   "metadata": {},
   "outputs": [],
   "source": [
    "def print_stats(series: list, name: str, period: str):\n",
    "    print(f\"Stats for {name}:\")\n",
    "    print(f\"Mean: {np.mean(series)}\")\n",
    "    print(f\"Standard deviation: {np.std(series)}\")\n",
    "    print(f\"Skewness: {skew(series)}\")\n",
    "    print(f\"Kurtosis: {kurtosis(series)}\")\n",
    "    print(\"\\n\")"
   ]
  },
  {
   "cell_type": "code",
   "execution_count": 66,
   "metadata": {},
   "outputs": [
    {
     "name": "stdout",
     "output_type": "stream",
     "text": [
      "GOOGL: \n",
      "Linear Return Series:\n",
      "Stats for GOOGL:\n",
      "Mean: 143.4870823451451\n",
      "Standard deviation: 5.197905265260623\n",
      "Skewness: [0.38367633]\n",
      "Kurtosis: [-0.94484465]\n",
      "\n",
      "\n",
      "AAPL: \n",
      "Linear Return Series:\n",
      "Stats for AAPL:\n",
      "Mean: 187.01462881905692\n",
      "Standard deviation: 4.3620968816120405\n",
      "Skewness: [0.36563065]\n",
      "Kurtosis: [-1.23488144]\n",
      "\n",
      "\n",
      "AMZN: \n",
      "Linear Return Series:\n",
      "Stats for AMZN:\n",
      "Mean: 153.615237281436\n",
      "Standard deviation: 4.269610614376717\n",
      "Skewness: [-0.44040211]\n",
      "Kurtosis: [-0.336146]\n",
      "\n",
      "\n",
      "NVDA: \n",
      "Linear Return Series:\n",
      "Stats for NVDA:\n",
      "Mean: 56.2471189953032\n",
      "Standard deviation: 4.958032025207666\n",
      "Skewness: [-0.40911711]\n",
      "Kurtosis: [-1.09917426]\n",
      "\n",
      "\n",
      "BTC-USD: \n",
      "Linear Return Series:\n",
      "Stats for BTC-USD:\n",
      "Mean: 42919.612399193546\n",
      "Standard deviation: 1916.5509536317968\n",
      "Skewness: [0.34280531]\n",
      "Kurtosis: [-0.31118244]\n",
      "\n",
      "\n"
     ]
    }
   ],
   "source": [
    "\n",
    "for stock_name in us_stock_names:\n",
    "    print(stock_name + \": \")\n",
    "    stock = yf.Ticker(stock_name)\n",
    "    data = stock.history(interval=interval, start=start, end=end)[[\"Close\"]]\n",
    "   \n",
    "    # 1 Arithmetic Return\n",
    "    linear_returns = data.pct_change()\n",
    "    # Print the result\n",
    "    print(\"Linear Return Series:\")\n",
    "    print(linear_returns)\n",
    "    \n",
    "    # 2 Statistics\n",
    "    closing_prices = data.to_numpy()\n",
    "    print_stats(closing_prices, stock_name, \"daily\")\n",
    "   \n",
    "    # yearly_data = data.resample('Y').last()['Close']\n",
    "    # monthly_data = data.resample('M').last()['Close']\n",
    "    # weekly_data = data.resample('W').last()['Close']\n",
    "\n",
    "    # 3 Table\n",
    "\n",
    "    # 4 Histogram"
   ]
  },
  {
   "cell_type": "code",
   "execution_count": null,
   "metadata": {},
   "outputs": [],
   "source": [
    "\n"
   ]
  }
 ],
 "metadata": {
  "kernelspec": {
   "display_name": "ps1env",
   "language": "python",
   "name": "python3"
  },
  "language_info": {
   "codemirror_mode": {
    "name": "ipython",
    "version": 3
   },
   "file_extension": ".py",
   "mimetype": "text/x-python",
   "name": "python",
   "nbconvert_exporter": "python",
   "pygments_lexer": "ipython3",
   "version": "3.11.0"
  }
 },
 "nbformat": 4,
 "nbformat_minor": 2
}
