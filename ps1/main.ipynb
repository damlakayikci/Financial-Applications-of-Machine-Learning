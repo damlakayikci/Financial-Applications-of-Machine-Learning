{
 "cells": [
  {
   "cell_type": "code",
   "execution_count": 153,
   "metadata": {},
   "outputs": [],
   "source": [
    "import yfinance as yf\n",
    "import numpy as np\n",
    "import matplotlib.pyplot as plt\n",
    "import pandas as pd\n",
    "from scipy.stats import skew, kurtosis\n"
   ]
  },
  {
   "cell_type": "code",
   "execution_count": 154,
   "metadata": {},
   "outputs": [],
   "source": [
    "# define parameters\n",
    "interval = \"1mo\"\n",
    "start = \"2022-01-01\"\n",
    "end = \"2024-01-01\"\n",
    "\n",
    "# US Tech Stocks\n",
    "us_stock_names = [\"GOOGL\", \"AAPL\", \"AMZN\", \"NVDA\", \"BTC-USD\"]\n",
    "us_stocks = {name: yf.Ticker(name) for name in us_stock_names}\n",
    "\n",
    "# # US Tech Index\n",
    "NASDAQ = yf.Ticker(\"^IXIC\")\n",
    "SP500 = yf.Ticker(\"^GSPC\")\n",
    "\n",
    "# # Turkish Stock Index\n",
    "BIST100 = yf.Ticker(\"XU100\")\n",
    "\n",
    "# # Turkish Stocks\n",
    "tr_stock_names = [\"AKBNK\", \"TUPRS\"]\n",
    "tr_stocks = {name: yf.Ticker(name) for name in tr_stock_names}"
   ]
  },
  {
   "cell_type": "code",
   "execution_count": 155,
   "metadata": {},
   "outputs": [],
   "source": [
    "# UTILS\n",
    "\n",
    "def print_stats(series: list, name: str, period: str):\n",
    "    print(f\"Stats for {name}:\")\n",
    "    print(f\"Mean: {np.mean(series)}\")\n",
    "    print(f\"Standard deviation: {np.std(series)}\")\n",
    "    print(f\"Skewness: {skew(series)}\")\n",
    "    print(f\"Kurtosis: {kurtosis(series)}\")\n",
    "    print(\"\\n\")\n",
    "\n",
    "# 3)\n",
    "    # Make a table where you have different frequencies and different descriptive statistics. Make the table to\n",
    "    # show them all in a compact way. Please summarize your findings clearly but briefly by looking at the chapter\n",
    "    # you are given. Please present US index (SP500) and US stocks in same plot.\n",
    "\n",
    "def plot_stocks(stocks: dict, stock_name:str, country):\n",
    "    stock = stocks[stock_name].history(interval=interval, start=start, end=end)[[\"Close\"]]\n",
    "    if country == \"US\":\n",
    "        country_return = SP500.history(interval=interval, start=start, end=end)[[\"Close\"]].pct_change()\n",
    "    else:\n",
    "        country_return = BIST100.history(interval=interval, start=start, end=end)[[\"Close\"]].pct_change()\n",
    "    fig, ax = plt.subplots(figsize=(12,8))\n",
    "    ax.set_title('Montly Returns', fontsize=20)\n",
    "    ax.set_xlabel('Year', fontsize=16)\n",
    "    ax.set_ylabel('Price / Log Returns', fontsize=16)\n",
    "    ax.tick_params(labelsize=12)\n",
    "    ax.plot(stock.pct_change(), label=f'{stock_name} (period) Returns')\n",
    "    ax.plot(country_return, label=f'{country} (period) Returns')\n",
    "    ax.legend(fontsize=14)\n",
    "    plt.show()\n",
    "\n",
    "# 4)\n",
    "    # Plot histograms of daily return plots of US Stocks against Bitcoin prices. Compare the expected return\n",
    "    # (sample mean) and risk (standard deviation) of Bitcoin with that of other US stocks. Comment briefly how\n",
    "    # does the expected return and risk (i.e. standard deviation) trade off work.\n",
    "\n",
    "def plot_histograms(stocks: dict, stock_name:str):\n",
    "    interval = \"1d\"\n",
    "    start = \"2024-03-01\"\n",
    "    end = \"2024-01-01\"\n",
    "    stock_daily = stocks[stock_name].history(interval=interval, start=start, end=end)[[\"Close\"]]\n",
    "    print(stock_daily)\n",
    "    stock_daily_returns = stock_daily.pct_change()\n",
    "    btc_daily_returns = stocks[\"BTC-USD\"].history(interval=interval, start=start, end=end)[[\"Close\"]].pct_change()\n",
    "    fig, ax = plt.subplots(figsize=(12,8))\n",
    "    ax.set_title('Daily Returns', fontsize=20)\n",
    "    ax.set_xlabel('Day', fontsize=16)\n",
    "    ax.set_ylabel('Price / Log Returns', fontsize=16)\n",
    "    ax.tick_params(labelsize=12)\n",
    "    ax.hist(stock_daily_returns, bins=50, alpha=0.5, label=f'{stock_name} (period) Returns')\n",
    "    ax.hist(btc_daily_returns, bins=50, alpha=0.5, label='BTC (period) Returns')\n",
    "    ax.legend(fontsize=14)\n",
    "    plt.show()"
   ]
  },
  {
   "cell_type": "code",
   "execution_count": null,
   "metadata": {},
   "outputs": [],
   "source": [
    "\n",
    "for stock_name in us_stock_names:\n",
    "    print(stock_name + \": \")\n",
    "    data = us_stocks[stock_name].history(interval=interval, start=start, end=end)[[\"Close\"]]         \n",
    "\n",
    "    # 1 Arithmetic Return\n",
    "    linear_returns = data.pct_change()\n",
    "    # Print the result\n",
    "    print(\"Linear Return Series:\")\n",
    "    print(linear_returns)\n",
    "    \n",
    "    # 2 Statistics\n",
    "    closing_prices = data.to_numpy()\n",
    "    print_stats(closing_prices, stock_name, \"daily\")\n",
    "   \n",
    "    # yearly_data = data.resample('Y').last()['Close']\n",
    "    # monthly_data = data.resample('M').last()['Close']\n",
    "    # weekly_data = data.resample('W').last()['Close']\n",
    "\n",
    "    # 3 Table\n",
    "\n",
    "    # 4 Histogram"
   ]
  },
  {
   "cell_type": "code",
   "execution_count": null,
   "metadata": {},
   "outputs": [],
   "source": [
    "# test\n",
    "# plot_stocks(us_stocks, \"AAPL\", \"US\")\n",
    "\n",
    "plot_histograms(us_stocks, \"AAPL\")\n"
   ]
  },
  {
   "cell_type": "markdown",
   "metadata": {},
   "source": [
    "1. Calculate the mean and the st. Deviation of BTC and Apple stocks for monthly returns. How do\n",
    "you comment on them? What is the correlation between these two stocks?"
   ]
  },
  {
   "cell_type": "code",
   "execution_count": 158,
   "metadata": {},
   "outputs": [
    {
     "name": "stdout",
     "output_type": "stream",
     "text": [
      "[[1.         0.61401872]\n",
      " [0.61401872 1.        ]]\n"
     ]
    }
   ],
   "source": [
    "BTC = us_stocks[\"BTC-USD\"].history(interval=interval, start=start, end=end)[[\"Close\"]].pct_change().to_numpy()[1:].flatten()\n",
    "APPLE = us_stocks[\"AAPL\"].history(interval=interval, start=start, end=end)[[\"Close\"]].pct_change().to_numpy()[1:].flatten()\n",
    "\n",
    "correlation = np.corrcoef(BTC, APPLE)\n",
    "print(correlation)"
   ]
  },
  {
   "cell_type": "markdown",
   "metadata": {},
   "source": [
    "2. Find the correlation between BTC returns and other US stock return series. Comment on your\n",
    "findings on looking at my other notes (Risk Return Calculations). (find the correlation using\n",
    "Python libraries)"
   ]
  },
  {
   "cell_type": "code",
   "execution_count": 159,
   "metadata": {},
   "outputs": [
    {
     "name": "stdout",
     "output_type": "stream",
     "text": [
      "Correlation between Google and Bitcoin:  0.3751193819275995\n",
      "Correlation between Amazon and Bitcoin:  0.6615901190159137\n",
      "Correlation between Nvidia and Bitcoin:  0.4515625736854994\n"
     ]
    }
   ],
   "source": [
    "GOOGLE = us_stocks[\"GOOGL\"].history(interval=interval, start=start, end=end)[[\"Close\"]].pct_change().to_numpy()[1:].flatten()\n",
    "AMAZON = us_stocks[\"AMZN\"].history(interval=interval, start=start, end=end)[[\"Close\"]].pct_change().to_numpy()[1:].flatten()\n",
    "NVDIA = us_stocks[\"NVDA\"].history(interval=interval, start=start, end=end)[[\"Close\"]].pct_change().to_numpy()[1:].flatten()\n",
    "\n",
    "corr_google_btc = np.corrcoef(GOOGLE, BTC)\n",
    "corr_amazon_btc = np.corrcoef(AMAZON, BTC)\n",
    "corr_nvdia_btc = np.corrcoef(NVDIA, BTC)\n",
    "\n",
    "print(\"Correlation between Google and Bitcoin: \", corr_google_btc[0][1])\n",
    "print(\"Correlation between Amazon and Bitcoin: \", corr_amazon_btc[0][1])\n",
    "print(\"Correlation between Nvidia and Bitcoin: \", corr_nvdia_btc[0][1])"
   ]
  },
  {
   "cell_type": "markdown",
   "metadata": {},
   "source": [
    "3. Sharpe Ratio = µ/σ is a very popular performance ratio indicating how much return is\n",
    "expected for a given risk. The higher the Sharpe ratio the better the risk adjusted\n",
    "expected return. Calculate the daily, weekly, monthly sharpe ratio for US stocks. What\n",
    "do we find? How would you manage your portfolio after your findings. What is the\n",
    "Sharpe ratio of Bitcoin? (Note that we simplified Sharpe Ratio by assuming interest rates\n",
    "are zero. sharpe = (µ -r)/σ where r is the interest rates.)"
   ]
  },
  {
   "cell_type": "code",
   "execution_count": null,
   "metadata": {},
   "outputs": [],
   "source": []
  },
  {
   "cell_type": "markdown",
   "metadata": {},
   "source": [
    "4. Markowitz Frontier: Please first read the risk-return calculations before attempting to\n",
    "solve this question. Suppose your wealth is 100$. First you invest all your wealth in BTC\n",
    "i.e w1=100%. Then you do divide your portfolio 50% BTC, 50% Apple. Then 1/3 BTC, 1/3\n",
    "Google, 1/3 Apple. Finally you divide your wealth equally for all the stocks you have i.e\n",
    "w1=w2=w3=w4 25% for each four stocks including Amazon.\n",
    "    a. Calculate your expected return and st. Deviation of your portfolio for each of\n",
    "    these 4 cases.\n",
    "    b. Plot the expected return of portfolio 1,2,3,4 against number of stocks. Plot the\n",
    "    standard deviation of each portfolio against the number of stocks in your\n",
    "    portfolio\n",
    "    c. What do you observe in terms of your standard deviation of your portfolio\n",
    "    d. What do you expect your results if you add more stocks into your portfolio\n",
    "    e. Can you generalize the saying “don’t put all of your eggs into a basket” with this\n",
    "    exercise.\n",
    "\n",
    "5. Stock Beta\n",
    "Please focus on your monthly Turkish and US stocks and their stock indices XU100 and NASDAQ.\n",
    "Choose one stock say Apple. Estimate the regression equation below.\n",
    "    R_(i,t) α + β*R_(m,t)\n",
    "R_i = i th stock arithmetic return for stock i say: APPLE for month t.\n",
    "R_(m,t) = is the return of a stock index (i.e NASDAQ’s monthly stock returns), m is the\n",
    "market index\n",
    "\n",
    "6. Estimate the beta’s for each stocks. (Turkish and US stocks separately use BIST100\n",
    "for the for Turkish Stocks. 2 betas for Turkey (AKB, Tupras) and 4 for US (APPLE,\n",
    "GOOGLE,NVDIA, AMAZON.))\n",
    "\n",
    "7. How do you compare the beta’s in US and Turkey separately? Which stock seemed to\n",
    "have highest beta? Which stocks would you buy if you expect a sharp drop in growth in\n",
    "US economy.\n",
    "\n",
    "8. Do a statistical t test whether beta is significant or not? How does the model fit look at\n",
    "their R-square?"
   ]
  }
 ],
 "metadata": {
  "kernelspec": {
   "display_name": "ps1env",
   "language": "python",
   "name": "python3"
  },
  "language_info": {
   "codemirror_mode": {
    "name": "ipython",
    "version": 3
   },
   "file_extension": ".py",
   "mimetype": "text/x-python",
   "name": "python",
   "nbconvert_exporter": "python",
   "pygments_lexer": "ipython3",
   "version": "3.11.0"
  }
 },
 "nbformat": 4,
 "nbformat_minor": 2
}
