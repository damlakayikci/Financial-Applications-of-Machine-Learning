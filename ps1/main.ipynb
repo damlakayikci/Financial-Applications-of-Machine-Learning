{
 "cells": [
  {
   "cell_type": "code",
   "execution_count": 58,
   "metadata": {},
   "outputs": [],
   "source": [
    "import yfinance as yf\n",
    "import numpy as np\n",
    "import matplotlib.pyplot as plt\n",
    "import pandas as pd\n",
    "from scipy.stats import skew, kurtosis"
   ]
  },
  {
   "cell_type": "code",
   "execution_count": 30,
   "metadata": {},
   "outputs": [],
   "source": [
    "# US Tech Stocks\n",
    "us_stock_names = [\"GOOGL\", \"AAPL\", \"AMZN\", \"NVDA\", \"BTC-USD\"]\n",
    "\n",
    "# # US Tech Index\n",
    "NASDAQ = yf.Ticker(\"^IXIC\")\n",
    "\n",
    "# # Turkish Stock Index\n",
    "BIST100 = yf.Ticker(\"XU100\")\n",
    "\n",
    "# # Turkish Stocks\n",
    "tr_stock_names = [\"AKBNK\", \"TUPRS\"]"
   ]
  },
  {
   "cell_type": "code",
   "execution_count": 36,
   "metadata": {},
   "outputs": [],
   "source": [
    "# define parameters\n",
    "interval = \"1d\"\n",
    "start = \"2024-01-01\"\n",
    "end = \"2024-02-01\""
   ]
  },
  {
   "cell_type": "code",
   "execution_count": 65,
   "metadata": {},
   "outputs": [],
   "source": [
    "def print_stats(series: list, name: str, period: str):\n",
    "    print(f\"Stats for {name}:\")\n",
    "    print(f\"Mean: {np.mean(series)}\")\n",
    "    print(f\"Standard deviation: {np.std(series)}\")\n",
    "    print(f\"Skewness: {skew(series)}\")\n",
    "    print(f\"Kurtosis: {kurtosis(series)}\")\n",
    "    print(\"\\n\")"
   ]
  },
  {
   "cell_type": "code",
   "execution_count": 66,
   "metadata": {},
   "outputs": [
    {
     "name": "stdout",
     "output_type": "stream",
     "text": [
      "GOOGL: \n",
      "Linear Return Series:\n",
      "Stats for GOOGL:\n",
      "Mean: 143.4870823451451\n",
      "Standard deviation: 5.197905265260623\n",
      "Skewness: [0.38367633]\n",
      "Kurtosis: [-0.94484465]\n",
      "\n",
      "\n",
      "AAPL: \n",
      "Linear Return Series:\n",
      "Stats for AAPL:\n",
      "Mean: 187.01462881905692\n",
      "Standard deviation: 4.3620968816120405\n",
      "Skewness: [0.36563065]\n",
      "Kurtosis: [-1.23488144]\n",
      "\n",
      "\n",
      "AMZN: \n",
      "Linear Return Series:\n",
      "Stats for AMZN:\n",
      "Mean: 153.615237281436\n",
      "Standard deviation: 4.269610614376717\n",
      "Skewness: [-0.44040211]\n",
      "Kurtosis: [-0.336146]\n",
      "\n",
      "\n",
      "NVDA: \n",
      "Linear Return Series:\n",
      "Stats for NVDA:\n",
      "Mean: 56.2471189953032\n",
      "Standard deviation: 4.958032025207666\n",
      "Skewness: [-0.40911711]\n",
      "Kurtosis: [-1.09917426]\n",
      "\n",
      "\n",
      "BTC-USD: \n",
      "Linear Return Series:\n",
      "Stats for BTC-USD:\n",
      "Mean: 42919.612399193546\n",
      "Standard deviation: 1916.5509536317968\n",
      "Skewness: [0.34280531]\n",
      "Kurtosis: [-0.31118244]\n",
      "\n",
      "\n"
     ]
    }
   ],
   "source": [
    "\n",
    "for stock_name in us_stock_names:\n",
    "    print(stock_name + \": \")\n",
    "    stock = yf.Ticker(stock_name)\n",
    "    data = stock.history(interval=interval, start=start, end=end)[[\"Close\"]]\n",
    "   \n",
    "    # 1 Arithmetic Return\n",
    "    linear_returns = data.pct_change()\n",
    "    # Print the result\n",
    "    print(\"Linear Return Series:\")\n",
    "    print(linear_returns)\n",
    "    \n",
    "    # 2 Statistics\n",
    "    closing_prices = data.to_numpy()\n",
    "    print_stats(closing_prices, stock_name, \"daily\")\n",
    "   \n",
    "    # yearly_data = data.resample('Y').last()['Close']\n",
    "    # monthly_data = data.resample('M').last()['Close']\n",
    "    # weekly_data = data.resample('W').last()['Close']\n",
    "\n",
    "    # 3 Table\n",
    "\n",
    "    # 4 Histogram"
   ]
  },
  {
   "cell_type": "code",
   "execution_count": null,
   "metadata": {},
   "outputs": [],
   "source": [
    "\n"
   ]
  },
  {
   "cell_type": "markdown",
   "metadata": {},
   "source": [
    "1. Calculate the mean and the st. Deviation of BTC and Apple stocks for monthly returns. How do\n",
    "you comment on them? What is the correlation between these two stocks?\n",
    "\n",
    "2. Find the correlation between BTC returns and other US stock return series. Comment on your\n",
    "findings on looking at my other notes (Risk Return Calculations). (find the correlation using\n",
    "Python libraries)\n",
    "\n",
    "3. Sharpe Ratio = µ/σ is a very popular performance ratio indicating how much return is\n",
    "expected for a given risk. The higher the Sharpe ratio the better the risk adjusted\n",
    "expected return. Calculate the daily, weekly, monthly sharpe ratio for US stocks. What\n",
    "do we find? How would you manage your portfolio after your findings. What is the\n",
    "Sharpe ratio of Bitcoin? (Note that we simplified Sharpe Ratio by assuming interest rates\n",
    "are zero. sharpe = (µ -r)/σ where r is the interest rates.)\n",
    "\n",
    "4. Markowitz Frontier: Please first read the risk-return calculations before attempting to\n",
    "solve this question. Suppose your wealth is 100$. First you invest all your wealth in BTC\n",
    "i.e w1=100%. Then you do divide your portfolio 50% BTC, 50% Apple. Then 1/3 BTC, 1/3\n",
    "Google, 1/3 Apple. Finally you divide your wealth equally for all the stocks you have i.e\n",
    "w1=w2=w3=w4 25% for each four stocks including Amazon.\n",
    "    a. Calculate your expected return and st. Deviation of your portfolio for each of\n",
    "    these 4 cases.\n",
    "    b. Plot the expected return of portfolio 1,2,3,4 against number of stocks. Plot the\n",
    "    standard deviation of each portfolio against the number of stocks in your\n",
    "    portfolio\n",
    "    c. What do you observe in terms of your standard deviation of your portfolio\n",
    "    d. What do you expect your results if you add more stocks into your portfolio\n",
    "    e. Can you generalize the saying “don’t put all of your eggs into a basket” with this\n",
    "    exercise.\n",
    "\n",
    "5. Stock Beta\n",
    "Please focus on your monthly Turkish and US stocks and their stock indices XU100 and NASDAQ.\n",
    "Choose one stock say Apple. Estimate the regression equation below.\n",
    "    R_(i,t) α + β*R_(m,t)\n",
    "R_i = i th stock arithmetic return for stock i say: APPLE for month t.\n",
    "R_(m,t) = is the return of a stock index (i.e NASDAQ’s monthly stock returns), m is the\n",
    "market index\n",
    "\n",
    "6. Estimate the beta’s for each stocks. (Turkish and US stocks separately use BIST100\n",
    "for the for Turkish Stocks. 2 betas for Turkey (AKB, Tupras) and 4 for US (APPLE,\n",
    "GOOGLE,NVDIA, AMAZON.))\n",
    "\n",
    "7. How do you compare the beta’s in US and Turkey separately? Which stock seemed to\n",
    "have highest beta? Which stocks would you buy if you expect a sharp drop in growth in\n",
    "US economy.\n",
    "\n",
    "8. Do a statistical t test whether beta is significant or not? How does the model fit look at\n",
    "their R-square?"
   ]
  }
 ],
 "metadata": {
  "kernelspec": {
   "display_name": "ps1env",
   "language": "python",
   "name": "python3"
  },
  "language_info": {
   "codemirror_mode": {
    "name": "ipython",
    "version": 3
   },
   "file_extension": ".py",
   "mimetype": "text/x-python",
   "name": "python",
   "nbconvert_exporter": "python",
   "pygments_lexer": "ipython3",
   "version": "3.11.0"
  }
 },
 "nbformat": 4,
 "nbformat_minor": 2
}
